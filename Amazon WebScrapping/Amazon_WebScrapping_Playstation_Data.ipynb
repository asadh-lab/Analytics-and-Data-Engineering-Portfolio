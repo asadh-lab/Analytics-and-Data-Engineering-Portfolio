{
 "cells": [
  {
   "cell_type": "code",
   "execution_count": 1,
   "metadata": {},
   "outputs": [],
   "source": [
    "from bs4 import BeautifulSoup\n",
    "import requests\n",
    "import pandas as pd\n",
    "import numpy as np"
   ]
  },
  {
   "cell_type": "code",
   "execution_count": 2,
   "metadata": {},
   "outputs": [
    {
     "name": "stdout",
     "output_type": "stream",
     "text": [
      "Requirement already satisfied: bs4 in /Library/Frameworks/Python.framework/Versions/3.12/lib/python3.12/site-packages (0.0.2)\n",
      "Requirement already satisfied: beautifulsoup4 in /Library/Frameworks/Python.framework/Versions/3.12/lib/python3.12/site-packages (from bs4) (4.12.3)\n",
      "Requirement already satisfied: soupsieve>1.2 in /Library/Frameworks/Python.framework/Versions/3.12/lib/python3.12/site-packages (from beautifulsoup4->bs4) (2.5)\n",
      "\n",
      "\u001b[1m[\u001b[0m\u001b[34;49mnotice\u001b[0m\u001b[1;39;49m]\u001b[0m\u001b[39;49m A new release of pip is available: \u001b[0m\u001b[31;49m24.0\u001b[0m\u001b[39;49m -> \u001b[0m\u001b[32;49m24.2\u001b[0m\n",
      "\u001b[1m[\u001b[0m\u001b[34;49mnotice\u001b[0m\u001b[1;39;49m]\u001b[0m\u001b[39;49m To update, run: \u001b[0m\u001b[32;49mpip3 install --upgrade pip\u001b[0m\n",
      "Note: you may need to restart the kernel to use updated packages.\n"
     ]
    }
   ],
   "source": [
    "pip install bs4"
   ]
  },
  {
   "cell_type": "code",
   "execution_count": 3,
   "metadata": {},
   "outputs": [
    {
     "name": "stdout",
     "output_type": "stream",
     "text": [
      "Requirement already satisfied: requests in /Library/Frameworks/Python.framework/Versions/3.12/lib/python3.12/site-packages (2.31.0)\n",
      "Requirement already satisfied: charset-normalizer<4,>=2 in /Library/Frameworks/Python.framework/Versions/3.12/lib/python3.12/site-packages (from requests) (3.3.2)\n",
      "Requirement already satisfied: idna<4,>=2.5 in /Library/Frameworks/Python.framework/Versions/3.12/lib/python3.12/site-packages (from requests) (3.7)\n",
      "Requirement already satisfied: urllib3<3,>=1.21.1 in /Library/Frameworks/Python.framework/Versions/3.12/lib/python3.12/site-packages (from requests) (2.2.1)\n",
      "Requirement already satisfied: certifi>=2017.4.17 in /Library/Frameworks/Python.framework/Versions/3.12/lib/python3.12/site-packages (from requests) (2024.2.2)\n",
      "\n",
      "\u001b[1m[\u001b[0m\u001b[34;49mnotice\u001b[0m\u001b[1;39;49m]\u001b[0m\u001b[39;49m A new release of pip is available: \u001b[0m\u001b[31;49m24.0\u001b[0m\u001b[39;49m -> \u001b[0m\u001b[32;49m24.2\u001b[0m\n",
      "\u001b[1m[\u001b[0m\u001b[34;49mnotice\u001b[0m\u001b[1;39;49m]\u001b[0m\u001b[39;49m To update, run: \u001b[0m\u001b[32;49mpip3 install --upgrade pip\u001b[0m\n",
      "Note: you may need to restart the kernel to use updated packages.\n"
     ]
    }
   ],
   "source": [
    "pip install requests"
   ]
  },
  {
   "cell_type": "code",
   "execution_count": 4,
   "metadata": {},
   "outputs": [],
   "source": [
    "URL = 'https://www.amazon.com/s?k=playstation+5&ref=nb_sb_noss'"
   ]
  },
  {
   "cell_type": "code",
   "execution_count": 5,
   "metadata": {},
   "outputs": [],
   "source": [
    "#HEADERS = [{'User-Agent':'Mozilla/5.0 (Macintosh; Intel Mac OS X 10_15_7) AppleWebKit/537.36 (KHTML, like Gecko) Chrome/123.0.0.0 Safari/537.36', 'Accept-Language': 'en-US, en;q=0.5'}]"
   ]
  },
  {
   "cell_type": "code",
   "execution_count": 6,
   "metadata": {},
   "outputs": [],
   "source": [
    "HEADERS = {'User-Agent': 'Mozilla/5.0 (Macintosh; Intel Mac OS X 10_15_7) AppleWebKit/537.36 (KHTML, like Gecko) Chrome/123.0.0.0 Safari/537.36', 'Accept-Language': 'en-US, en;q=0.5'}\n"
   ]
  },
  {
   "cell_type": "code",
   "execution_count": 7,
   "metadata": {},
   "outputs": [],
   "source": [
    "webpage = requests.get(URL, headers=HEADERS)"
   ]
  },
  {
   "cell_type": "code",
   "execution_count": 8,
   "metadata": {},
   "outputs": [
    {
     "data": {
      "text/plain": [
       "bytes"
      ]
     },
     "execution_count": 8,
     "metadata": {},
     "output_type": "execute_result"
    }
   ],
   "source": [
    "type(webpage.content)"
   ]
  },
  {
   "cell_type": "code",
   "execution_count": 9,
   "metadata": {},
   "outputs": [],
   "source": [
    "soup = BeautifulSoup(webpage.content, 'html.parser')"
   ]
  },
  {
   "cell_type": "code",
   "execution_count": 10,
   "metadata": {},
   "outputs": [],
   "source": [
    "links = soup.find_all(\"a\", attrs={'class':'a-link-normal s-underline-text s-underline-link-text s-link-style a-text-normal\" href=\"/PlayStation%C2%AE5-console-slim-PlayStation-5/dp/B0CL61F39H/ref=sr_1_1?dib=eyJ2IjoiMSJ9.suF_t0WUIRJM-s3EUqiGgqWOZrfoG2gMPeGOLyCoBLstCPsi_Y9RJnvq0NUlJyFInKg-UGiIpTbdfEvf2c8MVL6osqXX8hkxiDLIvyt3C2uMrKBqGcauDiwR4ZPHSY-g0NhU4ofHbpEkaeMPqUtnEgbf5coLKT8cuM3n2vaBZ9pzLybanlITPj3KlqdFT3p5R4xdiIbY3dx0WxzAicrB-ZI2LO93XD1dnfhTs9c-E5M.O0ywUFHTZ3vVOl68Ztn3j9O4c9tvJmYhwLD0fpQQZkw&amp;dib_tag=se&amp;keywords=playstation+5&amp;qid=1715368413&amp;sr=8-1'})"
   ]
  },
  {
   "cell_type": "code",
   "execution_count": 11,
   "metadata": {},
   "outputs": [],
   "source": [
    "#<a class=\"a-link-normal s-underline-text s-underline-link-text s-link-style a-text-normal\" href=\"/PlayStation%C2%AE5-console-slim-PlayStation-5/dp/B0CL61F39H/ref=sr_1_1?dib=eyJ2IjoiMSJ9.suF_t0WUIRJM-s3EUqiGgqWOZrfoG2gMPeGOLyCoBLstCPsi_Y9RJnvq0NUlJyFInKg-UGiIpTbdfEvf2c8MVL6osqXX8hkxiDLIvyt3C2uMrKBqGcauDiwR4ZPHSY-g0NhU4ofHbpEkaeMPqUtnEgbf5coLKT8cuM3n2vaBZ9pzLybanlITPj3KlqdFT3p5R4xdiIbY3dx0WxzAicrB-ZI2LO93XD1dnfhTs9c-E5M.O0ywUFHTZ3vVOl68Ztn3j9O4c9tvJmYhwLD0fpQQZkw&amp;dib_tag=se&amp;keywords=playstation+5&amp;qid=1715368413&amp;sr=8-1\"><span class=\"a-size-medium a-color-base a-text-normal\">PlayStation®5 console (slim)</span> </a>"
   ]
  },
  {
   "cell_type": "code",
   "execution_count": 12,
   "metadata": {},
   "outputs": [],
   "source": [
    "# links = soup.find_all(\"a\", attrs={'class':soup.find_all(\"a\", attrs={'class':<a class=\"a-link-normal s-underline-text s-underline-link-text s-link-style a-text-normal\" href=\"/PlayStation%C2%AE5-console-slim-PlayStation-5/dp/B0CL61F39H/ref=sr_1_1?dib=eyJ2IjoiMSJ9.suF_t0WUIRJM-s3EUqiGgqWOZrfoG2gMPeGOLyCoBLstCPsi_Y9RJnvq0NUlJyFInKg-UGiIpTbdfEvf2c8MVL6osqXX8hkxiDLIvyt3C2uMrKBqGcauDiwR4ZPHSY-g0NhU4ofHbpEkaeMPqUtnEgbf5coLKT8cuM3n2vaBZ9pzLybanlITPj3KlqdFT3p5R4xdiIbY3dx0WxzAicrB-ZI2LO93XD1dnfhTs9c-E5M.O0ywUFHTZ3vVOl68Ztn3j9O4c9tvJmYhwLD0fpQQZkw&amp;dib_tag=se&amp;keywords=playstation+5&amp;qid=1715368413&amp;sr=8-1\"><span class=\"a-size-medium a-color-base a-text-normal\">PlayStation®5 console (slim)</span> </a>})"
   ]
  },
  {
   "cell_type": "code",
   "execution_count": 13,
   "metadata": {},
   "outputs": [],
   "source": [
    "#links = soup.find_all(\"a\", attrs={'class': 'a-link-normal s-underline-text s-underline-link-text s-link-style a-text-normal', \n",
    "                                   #'href': '/PlayStation%C2%AE5-console-slim-PlayStation-5/dp/B0CL61F39H/ref=sr_1_1?dib=eyJ2IjoiMSJ9.suF_t0WUIRJM-s3EUqiGgqWOZrfoG2gMPeGOLyCoBLstCPsi_Y9RJnvq0NUlJyFInKg-UGiIpTbdfEvf2c8MVL6osqXX8hkxiDLIvyt3C2uMrKBqGcauDiwR4ZPHSY-g0NhU4ofHbpEkaeMPqUtnEgbf5coLKT8cuM3n2vaBZ9pzLybanlITPj3KlqdFT3p5R4xdiIbY3dx0WxzAicrB-ZI2LO93XD1dnfhTs9c-E5M.O0ywUFHTZ3vVOl68Ztn3j9O4c9tvJmYhwLD0fpQQZkw&dib_tag=se&keywords=playstation+5&qid=1715368413&sr=8-1'})\n"
   ]
  },
  {
   "cell_type": "code",
   "execution_count": 14,
   "metadata": {},
   "outputs": [],
   "source": [
    "# Find all <a> tags with a specific class attribute\n",
    "links = soup.find_all('a', class_='a-link-normal s-underline-text s-underline-link-text s-link-style a-text-normal')\n",
    "\n",
    "# Find all <a> tags with a specific href attribute\n",
    "# links_with_specific_href = soup.find_all('a', href='/PlayStation%C2%AE5-console-slim-PlayStation-5/dp/B0CL61F39H/ref=sr_1_1?dib=eyJ2IjoiMSJ9.suF_t0WUIRJM-s3EUqiGgqWOZrfoG2gMPeGOLyCoBLstCPsi_Y9RJnvq0NUlJyFInKg-UGiIpTbdfEvf2c8MVL6osqXX8hkxiDLIvyt3C2uMrKBqGcauDiwR4ZPHSY-g0NhU4ofHbpEkaeMPqUtnEgbf5coLKT8cuM3n2vaBZ9pzLybanlITPj3KlqdFT3p5R4xdiIbY3dx0WxzAicrB-ZI2LO93XD1dnfhTs9c-E5M.O0ywUFHTZ3vVOl68Ztn3j9O4c9tvJmYhwLD0fpQQZkw&dib_tag=se&keywords=playstation+5&qid=1715368413&sr=8-1')\n"
   ]
  },
  {
   "cell_type": "code",
   "execution_count": 15,
   "metadata": {},
   "outputs": [],
   "source": [
    "link =links[0].get('href')"
   ]
  },
  {
   "cell_type": "code",
   "execution_count": 16,
   "metadata": {},
   "outputs": [],
   "source": [
    "product_list = \"https://amazon.com\" + link"
   ]
  },
  {
   "cell_type": "code",
   "execution_count": 17,
   "metadata": {},
   "outputs": [
    {
     "data": {
      "text/plain": [
       "'https://amazon.com/PlayStation%C2%AE5-Digital-slim-PlayStation-5/dp/B0CL5KNB9M/ref=sr_1_1?dib=eyJ2IjoiMSJ9.IciiKqxFks4LuVymizbpyxDlh1vJ1IXjBFv72X8oGMbWw1HxxLgcjiNs4CaCIdrZ6ejEgTIdaks-7n1M_b1MECUI1_w1e_oJifGr0Qjsq1ahT4WOOPtOkrVXdS_tbiWI08ATcOBKASgBfg4BTlYyxj1vZhAGi7VysUd7SW9JOuuImU4eGTgOJ-7mkAlzilYS5NdXxnUpzmLeKtub3m4dth9z7ICLfWOdoNbdetG_sBw.COeQMTU55PALMp_kBb2fjn69r-aMMSMYXAXru_vaoJo&dib_tag=se&keywords=playstation+5&qid=1726373647&sr=8-1'"
      ]
     },
     "execution_count": 17,
     "metadata": {},
     "output_type": "execute_result"
    }
   ],
   "source": [
    "product_list"
   ]
  },
  {
   "cell_type": "code",
   "execution_count": 18,
   "metadata": {},
   "outputs": [],
   "source": [
    "new_webpage = requests.get(product_list, headers=HEADERS)"
   ]
  },
  {
   "cell_type": "code",
   "execution_count": 19,
   "metadata": {},
   "outputs": [
    {
     "data": {
      "text/plain": [
       "<Response [200]>"
      ]
     },
     "execution_count": 19,
     "metadata": {},
     "output_type": "execute_result"
    }
   ],
   "source": [
    "new_webpage"
   ]
  },
  {
   "cell_type": "code",
   "execution_count": 20,
   "metadata": {},
   "outputs": [],
   "source": [
    "new_soup = BeautifulSoup(new_webpage.content, \"html.parser\")"
   ]
  },
  {
   "cell_type": "code",
   "execution_count": 21,
   "metadata": {},
   "outputs": [],
   "source": [
    "# new_soup"
   ]
  },
  {
   "cell_type": "code",
   "execution_count": 22,
   "metadata": {},
   "outputs": [
    {
     "data": {
      "text/plain": [
       "<span class=\"a-size-large product-title-word-break\" id=\"productTitle\">        PlayStation®5 Digital Edition (slim)       </span>"
      ]
     },
     "execution_count": 22,
     "metadata": {},
     "output_type": "execute_result"
    }
   ],
   "source": [
    "new_soup.find(\"span\", attrs={\"id\":'productTitle'})"
   ]
  },
  {
   "cell_type": "code",
   "execution_count": 23,
   "metadata": {},
   "outputs": [
    {
     "data": {
      "text/plain": [
       "'PlayStation®5 Digital Edition (slim)'"
      ]
     },
     "execution_count": 23,
     "metadata": {},
     "output_type": "execute_result"
    }
   ],
   "source": [
    "new_soup.find(\"span\", attrs={\"id\":'productTitle'}).text.strip()\n",
    "#To Find title\n"
   ]
  },
  {
   "cell_type": "code",
   "execution_count": 24,
   "metadata": {},
   "outputs": [],
   "source": [
    "#<span class=\"a-offscreen\">$499.00</span>"
   ]
  },
  {
   "cell_type": "code",
   "execution_count": 25,
   "metadata": {},
   "outputs": [
    {
     "data": {
      "text/plain": [
       "'$449.99'"
      ]
     },
     "execution_count": 25,
     "metadata": {},
     "output_type": "execute_result"
    }
   ],
   "source": [
    "new_soup.find(\"span\", attrs={\"class\": 'a-offscreen'}).text.strip()\n",
    "#To find price"
   ]
  },
  {
   "cell_type": "code",
   "execution_count": 26,
   "metadata": {},
   "outputs": [],
   "source": [
    "# # to find reviews <span id=\"acrPopover\" class=\"reviewCountTextLinkedHistogram noUnderline\" title=\"4.7 out of 5 stars\">\n",
    "#         <span class=\"a-declarative\" data-action=\"a-popover\" data-csa-c-type=\"widget\" data-csa-c-func-deps=\"aui-da-a-popover\" data-a-popover=\"{&quot;max-width&quot;:&quot;700&quot;,&quot;closeButton&quot;:&quot;false&quot;,&quot;position&quot;:&quot;triggerBottom&quot;,&quot;url&quot;:&quot;/gp/customer-reviews/widgets/average-customer-review/popover/ref=dpx_acr_pop_?contextId=dpx&amp;asin=B0CL61F39H&quot;}\" data-csa-c-id=\"caz4nk-4q5hhq-1sigsr-wk9ccl\">  <a href=\"javascript:void(0)\" role=\"button\" class=\"a-popover-trigger a-declarative\">  <span class=\"a-size-base a-color-base\"> 4.7 </span>   <i class=\"a-icon a-icon-star a-star-4-5 cm-cr-review-stars-spacing-big\"><span class=\"a-icon-alt\">4.7 out of 5 stars</span></i>  <i class=\"a-icon a-icon-popover\"></i></a> </span> <span class=\"a-letter-space\"></span> </span>"
   ]
  },
  {
   "cell_type": "code",
   "execution_count": 27,
   "metadata": {},
   "outputs": [
    {
     "data": {
      "text/plain": [
       "'4.5 out of 5 stars'"
      ]
     },
     "execution_count": 27,
     "metadata": {},
     "output_type": "execute_result"
    }
   ],
   "source": [
    "new_soup.find(\"span\", attrs={\"class\": 'a-icon-alt'}).text"
   ]
  },
  {
   "cell_type": "code",
   "execution_count": 28,
   "metadata": {},
   "outputs": [],
   "source": [
    "#<span id=\"acrCustomerReviewText\" class=\"a-size-base\">4,991 ratings</span>"
   ]
  },
  {
   "cell_type": "code",
   "execution_count": 29,
   "metadata": {},
   "outputs": [
    {
     "data": {
      "text/plain": [
       "'7,788 ratings'"
      ]
     },
     "execution_count": 29,
     "metadata": {},
     "output_type": "execute_result"
    }
   ],
   "source": [
    "new_soup.find(\"span\", attrs={\"id\": 'acrCustomerReviewText',\"class\": 'a-size-base'}).text\n",
    "\n",
    "#To find number of reviews"
   ]
  },
  {
   "cell_type": "code",
   "execution_count": 30,
   "metadata": {},
   "outputs": [],
   "source": [
    "#<span class=\"a-dropdown-prompt\">1 </span>"
   ]
  },
  {
   "cell_type": "code",
   "execution_count": 31,
   "metadata": {},
   "outputs": [
    {
     "data": {
      "text/plain": [
       "'1'"
      ]
     },
     "execution_count": 31,
     "metadata": {},
     "output_type": "execute_result"
    }
   ],
   "source": [
    "new_soup.find(\"span\", attrs={\"class\": \"a-dropdown-prompt\"}).text\n",
    "# In stock"
   ]
  },
  {
   "cell_type": "code",
   "execution_count": 32,
   "metadata": {},
   "outputs": [],
   "source": [
    "#Function to get Product Title\n",
    "\n",
    "def get_title(soup):\n",
    "    try:\n",
    "        title = soup.find(\"span\", attrs={\"id\": 'productTitle'}) \n",
    "        #Inner NavigatableString Object\n",
    "        title_value = title.text\n",
    "        #Title as string value\n",
    "        title_string = title_value.strip()\n",
    "    except AttributeError:\n",
    "        title_string=\"\"\n",
    "    return title_string\n",
    "\n",
    "#Function to extract price\n",
    "\n",
    "def get_price(soup):\n",
    "    try:\n",
    "        price = soup.find(\"span\", attrs={\"class\": 'a-offscreen'}).text.strip()\n",
    "    except AttributeError:\n",
    "        price=\"\"\n",
    "    return price\n",
    "\n",
    "#Function to get product rating\n",
    "\n",
    "def get_ratings(soup):\n",
    "    try:\n",
    "        ratings = soup.find(\"span\", attrs={\"class\": 'a-icon-alt'}).text\n",
    "    except AttributeError:\n",
    "        ratings=\"\"\n",
    "    return ratings\n",
    "\n",
    "#Function to get number of reviews\n",
    "\n",
    "def get_number_reviews(soup):\n",
    "    try:\n",
    "        number_of_reviews = soup.find(\"span\", attrs={\"id\": 'acrCustomerReviewText',\"class\": 'a-size-base'}).text\n",
    "    except AttributeError:\n",
    "        number_of_reviews = \"\"\n",
    "    return number_of_reviews\n",
    "\n",
    "#Function to get quantitiy in stock\n",
    "\n",
    "def get_quantity_instock(soup):\n",
    "    try:\n",
    "        quantity_in_stock = soup.find(\"span\", attrs={\"class\": \"a-dropdown-prompt\"}).text\n",
    "    except AttributeError:\n",
    "        quantity_in_stock = \"\"\n",
    "    return quantity_in_stock\n"
   ]
  },
  {
   "cell_type": "code",
   "execution_count": 33,
   "metadata": {},
   "outputs": [
    {
     "name": "stdout",
     "output_type": "stream",
     "text": [
      "Error occurred while processing URL: https://aax-us-iad.amazon.com/x/c/JE8lsvIM9qtN0S1s9B1wZ-MAAAGR8-N3zAEAAAH2AQBvbm9fdHhuX2JpZDEgICBvbm9fdHhuX2ltcDEgICCEdeQB/https://www.amazon.com/Cooling-Controller-Charging-Playstation-Accessories/dp/B09QGK2LW3/ref=sxbs_sbv_search_btf?content-id=amzn1.sym.2f0a8989-0b67-47e7-b61e-9e3ef9908602%3Aamzn1.sym.2f0a8989-0b67-47e7-b61e-9e3ef9908602&cv_ct_cx=playstation+5&dib=eyJ2IjoiMSJ9.QxTsJ07omQ-n83anMA7y0A.j2IsLwryOmcHNSLL01koMazA7OZMfFTE6pgr1YXQC-g&dib_tag=se&keywords=playstation+5&pd_rd_i=B09QGK2LW3&pd_rd_r=e624b171-0927-4ce8-a79a-acc92bb50dfd&pd_rd_w=xTNhT&pd_rd_wg=VtV4f&pf_rd_p=2f0a8989-0b67-47e7-b61e-9e3ef9908602&pf_rd_r=XFMG4470ZKWA3MK2MS6R&qid=1726373656&sbo=RZvfv%2F%2FHxDF%2BO5021pAnSA%3D%3D&sr=1-1-a61ee601-6e56-4862-a8a2-1d3da5a5406f. Error message: HTTPSConnectionPool(host='www.amazon.comhttps', port=443): Max retries exceeded with url: //aax-us-iad.amazon.com/x/c/JE8lsvIM9qtN0S1s9B1wZ-MAAAGR8-N3zAEAAAH2AQBvbm9fdHhuX2JpZDEgICBvbm9fdHhuX2ltcDEgICCEdeQB/https://www.amazon.com/Cooling-Controller-Charging-Playstation-Accessories/dp/B09QGK2LW3/ref=sxbs_sbv_search_btf?content-id=amzn1.sym.2f0a8989-0b67-47e7-b61e-9e3ef9908602%3Aamzn1.sym.2f0a8989-0b67-47e7-b61e-9e3ef9908602&cv_ct_cx=playstation+5&dib=eyJ2IjoiMSJ9.QxTsJ07omQ-n83anMA7y0A.j2IsLwryOmcHNSLL01koMazA7OZMfFTE6pgr1YXQC-g&dib_tag=se&keywords=playstation+5&pd_rd_i=B09QGK2LW3&pd_rd_r=e624b171-0927-4ce8-a79a-acc92bb50dfd&pd_rd_w=xTNhT&pd_rd_wg=VtV4f&pf_rd_p=2f0a8989-0b67-47e7-b61e-9e3ef9908602&pf_rd_r=XFMG4470ZKWA3MK2MS6R&qid=1726373656&sbo=RZvfv%2F%2FHxDF%2BO5021pAnSA%3D%3D&sr=1-1-a61ee601-6e56-4862-a8a2-1d3da5a5406f (Caused by NameResolutionError(\"<urllib3.connection.HTTPSConnection object at 0x11d6cd5b0>: Failed to resolve 'www.amazon.comhttps' ([Errno 8] nodename nor servname provided, or not known)\"))\n"
     ]
    },
    {
     "name": "stderr",
     "output_type": "stream",
     "text": [
      "/var/folders/8y/9nrhm1tx5v77k5d09h4r776w0000gn/T/ipykernel_39825/1680042952.py:43: FutureWarning: A value is trying to be set on a copy of a DataFrame or Series through chained assignment using an inplace method.\n",
      "The behavior will change in pandas 3.0. This inplace method will never work because the intermediate object on which we are setting values always behaves as a copy.\n",
      "\n",
      "For example, when doing 'df[col].method(value, inplace=True)', try using 'df.method({col: value}, inplace=True)' or df[col] = df[col].method(value) instead, to perform the operation inplace on the original object.\n",
      "\n",
      "\n",
      "  amazon_df['title'].replace('', np.nan, inplace=True)\n"
     ]
    }
   ],
   "source": [
    "if __name__ == '__main__':\n",
    "    #Headers\n",
    "    HEADERS = {'User-Agent': 'Mozilla/5.0 (Macintosh; Intel Mac OS X 10_15_7) AppleWebKit/537.36 (KHTML, like Gecko) Chrome/123.0.0.0 Safari/537.36', 'Accept-Language': 'en-US, en;q=0.5'}\n",
    "\n",
    "    #URL\n",
    "    URL = 'https://www.amazon.com/s?k=playstation+5&ref=nb_sb_noss'\n",
    "\n",
    "    #webpage\n",
    "    webpage = requests.get(URL, headers=HEADERS)\n",
    "\n",
    "    #soup\n",
    "    soup = BeautifulSoup(webpage.content, 'html.parser')\n",
    "\n",
    "    #Fetch links as List of Tag Objects\n",
    "    links = soup.find_all(\"a\", attrs={'class': 'a-link-normal s-underline-text s-underline-link-text s-link-style a-text-normal'})\n",
    "\n",
    "    #Empty list to store the links\n",
    "    links_list = []\n",
    "\n",
    "    #loop for extracting links from Tag Objects\n",
    "\n",
    "    for link in links:\n",
    "        links_list.append(link.get('href'))\n",
    "\n",
    "    d={\"title\": [], \"price\":[], \"ratings\":[], \"# of reviews\":[]}\n",
    "\n",
    "    for link in links_list:\n",
    "        try:\n",
    "            new_webpage = requests.get(\"https://www.amazon.com\" + link, headers=HEADERS)\n",
    "            new_soup = BeautifulSoup(new_webpage.content, 'html.parser')\n",
    "\n",
    "            # Function calls to display necessary information\n",
    "            d['title'].append(get_title(new_soup))\n",
    "            d['price'].append(get_price(new_soup))\n",
    "            d['ratings'].append(get_ratings(new_soup))\n",
    "            d['# of reviews'].append(get_number_reviews(new_soup))\n",
    "            # d['quantity in stock'].append(get_quantity_instock(new_soup))\n",
    "        except Exception as e:\n",
    "            print(f\"Error occurred while processing URL: {link}. Error message: {e}\")\n",
    "\n",
    "\n",
    "amazon_df = pd.DataFrame.from_dict(d)\n",
    "amazon_df['title'].replace('', np.nan, inplace=True)\n",
    "amazon_df = amazon_df.dropna(subset=['title'])\n",
    "amazon_df.to_csv(\"amazon_data.csv\", header=True, index=False)\n",
    "\n",
    "\n",
    "\n",
    "\n"
   ]
  },
  {
   "cell_type": "markdown",
   "metadata": {},
   "source": []
  },
  {
   "cell_type": "code",
   "execution_count": 34,
   "metadata": {},
   "outputs": [
    {
     "data": {
      "text/html": [
       "<div>\n",
       "<style scoped>\n",
       "    .dataframe tbody tr th:only-of-type {\n",
       "        vertical-align: middle;\n",
       "    }\n",
       "\n",
       "    .dataframe tbody tr th {\n",
       "        vertical-align: top;\n",
       "    }\n",
       "\n",
       "    .dataframe thead th {\n",
       "        text-align: right;\n",
       "    }\n",
       "</style>\n",
       "<table border=\"1\" class=\"dataframe\">\n",
       "  <thead>\n",
       "    <tr style=\"text-align: right;\">\n",
       "      <th></th>\n",
       "      <th>title</th>\n",
       "      <th>price</th>\n",
       "      <th>ratings</th>\n",
       "      <th># of reviews</th>\n",
       "    </tr>\n",
       "  </thead>\n",
       "  <tbody>\n",
       "    <tr>\n",
       "      <th>0</th>\n",
       "      <td>PlayStation®5 console (slim)</td>\n",
       "      <td>$499.99</td>\n",
       "      <td>4.5 out of 5 stars</td>\n",
       "      <td>7,788 ratings</td>\n",
       "    </tr>\n",
       "    <tr>\n",
       "      <th>1</th>\n",
       "      <td>PlayStation®5 Console – Call of Duty® Modern W...</td>\n",
       "      <td>$499.99</td>\n",
       "      <td>4.7 out of 5 stars</td>\n",
       "      <td>1,726 ratings</td>\n",
       "    </tr>\n",
       "    <tr>\n",
       "      <th>2</th>\n",
       "      <td>PlayStation 5 (Slim) - (Renewed Premium)</td>\n",
       "      <td>$449.99</td>\n",
       "      <td>4.5 out of 5 stars</td>\n",
       "      <td>8 ratings</td>\n",
       "    </tr>\n",
       "    <tr>\n",
       "      <th>3</th>\n",
       "      <td>PlayStation 5 Digital Edition (Renewed)</td>\n",
       "      <td>$429.99</td>\n",
       "      <td>3.8 out of 5 stars</td>\n",
       "      <td>112 ratings</td>\n",
       "    </tr>\n",
       "    <tr>\n",
       "      <th>4</th>\n",
       "      <td>PlayStation 5 Console - Marvel’s Spider-Man 2 ...</td>\n",
       "      <td>$467.99</td>\n",
       "      <td>4.5 out of 5 stars</td>\n",
       "      <td>9 ratings</td>\n",
       "    </tr>\n",
       "    <tr>\n",
       "      <th>5</th>\n",
       "      <td>PlayStation Portal Remote Player - PlayStation 5</td>\n",
       "      <td>$199.00</td>\n",
       "      <td>4.5 out of 5 stars</td>\n",
       "      <td>1,525 ratings</td>\n",
       "    </tr>\n",
       "    <tr>\n",
       "      <th>6</th>\n",
       "      <td>PlayStation®5 Digital Edition (slim) (Renewed)</td>\n",
       "      <td>$419.99</td>\n",
       "      <td>4.5 out of 5 stars</td>\n",
       "      <td>12 ratings</td>\n",
       "    </tr>\n",
       "    <tr>\n",
       "      <th>7</th>\n",
       "      <td>PlayStation 5 Console (PS5)</td>\n",
       "      <td>$440.00</td>\n",
       "      <td>4.8 out of 5 stars</td>\n",
       "      <td>8,317 ratings</td>\n",
       "    </tr>\n",
       "    <tr>\n",
       "      <th>8</th>\n",
       "      <td>PlayStation DualSense® Wireless Controller - M...</td>\n",
       "      <td>$69.99</td>\n",
       "      <td>4.5 out of 5 stars</td>\n",
       "      <td>36,313 ratings</td>\n",
       "    </tr>\n",
       "    <tr>\n",
       "      <th>9</th>\n",
       "      <td>PlayStation®5 console (slim) with EA SPORTS Co...</td>\n",
       "      <td>$567.17</td>\n",
       "      <td>4.8 out of 5 stars</td>\n",
       "      <td>9 ratings</td>\n",
       "    </tr>\n",
       "    <tr>\n",
       "      <th>10</th>\n",
       "      <td>Sony PlayStation 5 Disc Version (Renewed)</td>\n",
       "      <td>$449.99</td>\n",
       "      <td>4.5 out of 5 stars</td>\n",
       "      <td>66 ratings</td>\n",
       "    </tr>\n",
       "    <tr>\n",
       "      <th>11</th>\n",
       "      <td>PlayStation 5 Console - Marvel’s Spider-Man 2 ...</td>\n",
       "      <td>$569.94</td>\n",
       "      <td>4.1 out of 5 stars</td>\n",
       "      <td>7,788 ratings</td>\n",
       "    </tr>\n",
       "    <tr>\n",
       "      <th>12</th>\n",
       "      <td>Playstation 5 Disc Version PS5 Console - 4K-TV...</td>\n",
       "      <td>$596.00</td>\n",
       "      <td>4.1 out of 5 stars</td>\n",
       "      <td></td>\n",
       "    </tr>\n",
       "    <tr>\n",
       "      <th>13</th>\n",
       "      <td>PlayStation PS5 Console – God of War Ragnarök ...</td>\n",
       "      <td>$493.97</td>\n",
       "      <td>4.8 out of 5 stars</td>\n",
       "      <td>13,450 ratings</td>\n",
       "    </tr>\n",
       "    <tr>\n",
       "      <th>14</th>\n",
       "      <td>PlayStation®5 Console – Call of Duty® Modern W...</td>\n",
       "      <td>$499.99</td>\n",
       "      <td>4.5 out of 5 stars</td>\n",
       "      <td>7 ratings</td>\n",
       "    </tr>\n",
       "    <tr>\n",
       "      <th>15</th>\n",
       "      <td>$150 PlayStation Store Gift Card [Digital Code]</td>\n",
       "      <td>$150.00</td>\n",
       "      <td>4.7 out of 5 stars</td>\n",
       "      <td>251,764 ratings</td>\n",
       "    </tr>\n",
       "    <tr>\n",
       "      <th>16</th>\n",
       "      <td>$250 PlayStation Store Gift Card [Digital Code]</td>\n",
       "      <td>$250.00</td>\n",
       "      <td>4.7 out of 5 stars</td>\n",
       "      <td>251,764 ratings</td>\n",
       "    </tr>\n",
       "    <tr>\n",
       "      <th>17</th>\n",
       "      <td>PlayStation 4 500GB Console (Renewed)</td>\n",
       "      <td>$169.99</td>\n",
       "      <td>4.4 out of 5 stars</td>\n",
       "      <td>1,319 ratings</td>\n",
       "    </tr>\n",
       "    <tr>\n",
       "      <th>18</th>\n",
       "      <td>Sony Playstation Portable (PSP) 3000 Series Ha...</td>\n",
       "      <td>$154.99</td>\n",
       "      <td>4.4 out of 5 stars</td>\n",
       "      <td>881 ratings</td>\n",
       "    </tr>\n",
       "    <tr>\n",
       "      <th>19</th>\n",
       "      <td>Xbox 360 250GB Slim Console - (Renewed)</td>\n",
       "      <td>$154.99</td>\n",
       "      <td>4.4 out of 5 stars</td>\n",
       "      <td>831 ratings</td>\n",
       "    </tr>\n",
       "    <tr>\n",
       "      <th>20</th>\n",
       "      <td>Nintendo Wii Console (Black) - (Renewed)</td>\n",
       "      <td>$109.99</td>\n",
       "      <td>4.5 out of 5 stars</td>\n",
       "      <td>737 ratings</td>\n",
       "    </tr>\n",
       "    <tr>\n",
       "      <th>21</th>\n",
       "      <td>Sony Playstation 3 160GB CECH-3001A, Console O...</td>\n",
       "      <td>$168.99</td>\n",
       "      <td>4.4 out of 5 stars</td>\n",
       "      <td>377 ratings</td>\n",
       "    </tr>\n",
       "    <tr>\n",
       "      <th>22</th>\n",
       "      <td>Sony Playstation Portable (PSP) 2000 Series Ha...</td>\n",
       "      <td>$169.95</td>\n",
       "      <td>4.4 out of 5 stars</td>\n",
       "      <td>283 ratings</td>\n",
       "    </tr>\n",
       "    <tr>\n",
       "      <th>23</th>\n",
       "      <td>PlayStation 3 Slim Console 120GB (Old Model) (...</td>\n",
       "      <td>$134.29</td>\n",
       "      <td>4.5 out of 5 stars</td>\n",
       "      <td>277 ratings</td>\n",
       "    </tr>\n",
       "    <tr>\n",
       "      <th>24</th>\n",
       "      <td>Carrying Case for PlayStation Portal, EVA Hard...</td>\n",
       "      <td>$18.96</td>\n",
       "      <td>4.6 out of 5 stars</td>\n",
       "      <td>149 ratings</td>\n",
       "    </tr>\n",
       "    <tr>\n",
       "      <th>25</th>\n",
       "      <td>CASEMATIX Travel Case Compatible With PS5 Slim...</td>\n",
       "      <td>$109.99</td>\n",
       "      <td>4.4 out of 5 stars</td>\n",
       "      <td>586 ratings</td>\n",
       "    </tr>\n",
       "    <tr>\n",
       "      <th>26</th>\n",
       "      <td>Glamgen Carrying Case for PS5 Travel Case for ...</td>\n",
       "      <td>$46.90</td>\n",
       "      <td>4.3 out of 5 stars</td>\n",
       "      <td>47 ratings</td>\n",
       "    </tr>\n",
       "  </tbody>\n",
       "</table>\n",
       "</div>"
      ],
      "text/plain": [
       "                                                title    price  \\\n",
       "0                        PlayStation®5 console (slim)  $499.99   \n",
       "1   PlayStation®5 Console – Call of Duty® Modern W...  $499.99   \n",
       "2            PlayStation 5 (Slim) - (Renewed Premium)  $449.99   \n",
       "3             PlayStation 5 Digital Edition (Renewed)  $429.99   \n",
       "4   PlayStation 5 Console - Marvel’s Spider-Man 2 ...  $467.99   \n",
       "5    PlayStation Portal Remote Player - PlayStation 5  $199.00   \n",
       "6      PlayStation®5 Digital Edition (slim) (Renewed)  $419.99   \n",
       "7                         PlayStation 5 Console (PS5)  $440.00   \n",
       "8   PlayStation DualSense® Wireless Controller - M...   $69.99   \n",
       "9   PlayStation®5 console (slim) with EA SPORTS Co...  $567.17   \n",
       "10          Sony PlayStation 5 Disc Version (Renewed)  $449.99   \n",
       "11  PlayStation 5 Console - Marvel’s Spider-Man 2 ...  $569.94   \n",
       "12  Playstation 5 Disc Version PS5 Console - 4K-TV...  $596.00   \n",
       "13  PlayStation PS5 Console – God of War Ragnarök ...  $493.97   \n",
       "14  PlayStation®5 Console – Call of Duty® Modern W...  $499.99   \n",
       "15    $150 PlayStation Store Gift Card [Digital Code]  $150.00   \n",
       "16    $250 PlayStation Store Gift Card [Digital Code]  $250.00   \n",
       "17              PlayStation 4 500GB Console (Renewed)  $169.99   \n",
       "18  Sony Playstation Portable (PSP) 3000 Series Ha...  $154.99   \n",
       "19            Xbox 360 250GB Slim Console - (Renewed)  $154.99   \n",
       "20           Nintendo Wii Console (Black) - (Renewed)  $109.99   \n",
       "21  Sony Playstation 3 160GB CECH-3001A, Console O...  $168.99   \n",
       "22  Sony Playstation Portable (PSP) 2000 Series Ha...  $169.95   \n",
       "23  PlayStation 3 Slim Console 120GB (Old Model) (...  $134.29   \n",
       "24  Carrying Case for PlayStation Portal, EVA Hard...   $18.96   \n",
       "25  CASEMATIX Travel Case Compatible With PS5 Slim...  $109.99   \n",
       "26  Glamgen Carrying Case for PS5 Travel Case for ...   $46.90   \n",
       "\n",
       "               ratings     # of reviews  \n",
       "0   4.5 out of 5 stars    7,788 ratings  \n",
       "1   4.7 out of 5 stars    1,726 ratings  \n",
       "2   4.5 out of 5 stars        8 ratings  \n",
       "3   3.8 out of 5 stars      112 ratings  \n",
       "4   4.5 out of 5 stars        9 ratings  \n",
       "5   4.5 out of 5 stars    1,525 ratings  \n",
       "6   4.5 out of 5 stars       12 ratings  \n",
       "7   4.8 out of 5 stars    8,317 ratings  \n",
       "8   4.5 out of 5 stars   36,313 ratings  \n",
       "9   4.8 out of 5 stars        9 ratings  \n",
       "10  4.5 out of 5 stars       66 ratings  \n",
       "11  4.1 out of 5 stars    7,788 ratings  \n",
       "12  4.1 out of 5 stars                   \n",
       "13  4.8 out of 5 stars   13,450 ratings  \n",
       "14  4.5 out of 5 stars        7 ratings  \n",
       "15  4.7 out of 5 stars  251,764 ratings  \n",
       "16  4.7 out of 5 stars  251,764 ratings  \n",
       "17  4.4 out of 5 stars    1,319 ratings  \n",
       "18  4.4 out of 5 stars      881 ratings  \n",
       "19  4.4 out of 5 stars      831 ratings  \n",
       "20  4.5 out of 5 stars      737 ratings  \n",
       "21  4.4 out of 5 stars      377 ratings  \n",
       "22  4.4 out of 5 stars      283 ratings  \n",
       "23  4.5 out of 5 stars      277 ratings  \n",
       "24  4.6 out of 5 stars      149 ratings  \n",
       "25  4.4 out of 5 stars      586 ratings  \n",
       "26  4.3 out of 5 stars       47 ratings  "
      ]
     },
     "execution_count": 34,
     "metadata": {},
     "output_type": "execute_result"
    }
   ],
   "source": [
    "amazon_df"
   ]
  },
  {
   "cell_type": "code",
   "execution_count": null,
   "metadata": {},
   "outputs": [],
   "source": []
  }
 ],
 "metadata": {
  "kernelspec": {
   "display_name": "Python 3",
   "language": "python",
   "name": "python3"
  },
  "language_info": {
   "codemirror_mode": {
    "name": "ipython",
    "version": 3
   },
   "file_extension": ".py",
   "mimetype": "text/x-python",
   "name": "python",
   "nbconvert_exporter": "python",
   "pygments_lexer": "ipython3",
   "version": "3.12.3"
  }
 },
 "nbformat": 4,
 "nbformat_minor": 2
}
